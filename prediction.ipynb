{
 "cells": [
  {
   "cell_type": "code",
   "execution_count": 1,
   "metadata": {},
   "outputs": [],
   "source": [
    "import numpy as np\n",
    "import pandas as pd\n",
    "from sklearn.model_selection import train_test_split\n",
    "import matplotlib as plt"
   ]
  },
  {
   "cell_type": "code",
   "execution_count": 2,
   "metadata": {},
   "outputs": [],
   "source": [
    "data = pd.read_csv('dataset/file.csv')"
   ]
  },
  {
   "cell_type": "code",
   "execution_count": 3,
   "metadata": {},
   "outputs": [
    {
     "data": {
      "text/html": [
       "<div>\n",
       "<style scoped>\n",
       "    .dataframe tbody tr th:only-of-type {\n",
       "        vertical-align: middle;\n",
       "    }\n",
       "\n",
       "    .dataframe tbody tr th {\n",
       "        vertical-align: top;\n",
       "    }\n",
       "\n",
       "    .dataframe thead th {\n",
       "        text-align: right;\n",
       "    }\n",
       "</style>\n",
       "<table border=\"1\" class=\"dataframe\">\n",
       "  <thead>\n",
       "    <tr style=\"text-align: right;\">\n",
       "      <th></th>\n",
       "      <th>Date</th>\n",
       "      <th>HomeTeam</th>\n",
       "      <th>AwayTeam</th>\n",
       "      <th>FTHG</th>\n",
       "      <th>FTAG</th>\n",
       "      <th>FTR</th>\n",
       "      <th>HTHG</th>\n",
       "      <th>HTAG</th>\n",
       "      <th>HTR</th>\n",
       "      <th>Referee</th>\n",
       "      <th>...</th>\n",
       "      <th>HST</th>\n",
       "      <th>AST</th>\n",
       "      <th>HF</th>\n",
       "      <th>AF</th>\n",
       "      <th>HC</th>\n",
       "      <th>AC</th>\n",
       "      <th>HY</th>\n",
       "      <th>AY</th>\n",
       "      <th>HR</th>\n",
       "      <th>AR</th>\n",
       "    </tr>\n",
       "  </thead>\n",
       "  <tbody>\n",
       "    <tr>\n",
       "      <th>0</th>\n",
       "      <td>15/08/09</td>\n",
       "      <td>Aston Villa</td>\n",
       "      <td>Wigan</td>\n",
       "      <td>0</td>\n",
       "      <td>2</td>\n",
       "      <td>A</td>\n",
       "      <td>0</td>\n",
       "      <td>1</td>\n",
       "      <td>A</td>\n",
       "      <td>M Clattenburg</td>\n",
       "      <td>...</td>\n",
       "      <td>5</td>\n",
       "      <td>7</td>\n",
       "      <td>15</td>\n",
       "      <td>14</td>\n",
       "      <td>4</td>\n",
       "      <td>6</td>\n",
       "      <td>2</td>\n",
       "      <td>2</td>\n",
       "      <td>0</td>\n",
       "      <td>0</td>\n",
       "    </tr>\n",
       "    <tr>\n",
       "      <th>1</th>\n",
       "      <td>15/08/09</td>\n",
       "      <td>Blackburn</td>\n",
       "      <td>Man City</td>\n",
       "      <td>0</td>\n",
       "      <td>2</td>\n",
       "      <td>A</td>\n",
       "      <td>0</td>\n",
       "      <td>1</td>\n",
       "      <td>A</td>\n",
       "      <td>M Dean</td>\n",
       "      <td>...</td>\n",
       "      <td>9</td>\n",
       "      <td>5</td>\n",
       "      <td>12</td>\n",
       "      <td>9</td>\n",
       "      <td>5</td>\n",
       "      <td>4</td>\n",
       "      <td>2</td>\n",
       "      <td>1</td>\n",
       "      <td>0</td>\n",
       "      <td>0</td>\n",
       "    </tr>\n",
       "    <tr>\n",
       "      <th>2</th>\n",
       "      <td>15/08/09</td>\n",
       "      <td>Bolton</td>\n",
       "      <td>Sunderland</td>\n",
       "      <td>0</td>\n",
       "      <td>1</td>\n",
       "      <td>A</td>\n",
       "      <td>0</td>\n",
       "      <td>1</td>\n",
       "      <td>A</td>\n",
       "      <td>A Marriner</td>\n",
       "      <td>...</td>\n",
       "      <td>3</td>\n",
       "      <td>13</td>\n",
       "      <td>16</td>\n",
       "      <td>10</td>\n",
       "      <td>4</td>\n",
       "      <td>7</td>\n",
       "      <td>2</td>\n",
       "      <td>1</td>\n",
       "      <td>0</td>\n",
       "      <td>0</td>\n",
       "    </tr>\n",
       "    <tr>\n",
       "      <th>3</th>\n",
       "      <td>15/08/09</td>\n",
       "      <td>Chelsea</td>\n",
       "      <td>Hull</td>\n",
       "      <td>2</td>\n",
       "      <td>1</td>\n",
       "      <td>H</td>\n",
       "      <td>1</td>\n",
       "      <td>1</td>\n",
       "      <td>D</td>\n",
       "      <td>A Wiley</td>\n",
       "      <td>...</td>\n",
       "      <td>12</td>\n",
       "      <td>3</td>\n",
       "      <td>13</td>\n",
       "      <td>15</td>\n",
       "      <td>12</td>\n",
       "      <td>4</td>\n",
       "      <td>1</td>\n",
       "      <td>2</td>\n",
       "      <td>0</td>\n",
       "      <td>0</td>\n",
       "    </tr>\n",
       "    <tr>\n",
       "      <th>4</th>\n",
       "      <td>15/08/09</td>\n",
       "      <td>Everton</td>\n",
       "      <td>Arsenal</td>\n",
       "      <td>1</td>\n",
       "      <td>6</td>\n",
       "      <td>A</td>\n",
       "      <td>0</td>\n",
       "      <td>3</td>\n",
       "      <td>A</td>\n",
       "      <td>M Halsey</td>\n",
       "      <td>...</td>\n",
       "      <td>5</td>\n",
       "      <td>9</td>\n",
       "      <td>11</td>\n",
       "      <td>13</td>\n",
       "      <td>4</td>\n",
       "      <td>9</td>\n",
       "      <td>0</td>\n",
       "      <td>0</td>\n",
       "      <td>0</td>\n",
       "      <td>0</td>\n",
       "    </tr>\n",
       "  </tbody>\n",
       "</table>\n",
       "<p>5 rows × 22 columns</p>\n",
       "</div>"
      ],
      "text/plain": [
       "       Date     HomeTeam    AwayTeam  FTHG  FTAG FTR  HTHG  HTAG HTR  \\\n",
       "0  15/08/09  Aston Villa       Wigan     0     2   A     0     1   A   \n",
       "1  15/08/09    Blackburn    Man City     0     2   A     0     1   A   \n",
       "2  15/08/09       Bolton  Sunderland     0     1   A     0     1   A   \n",
       "3  15/08/09      Chelsea        Hull     2     1   H     1     1   D   \n",
       "4  15/08/09      Everton     Arsenal     1     6   A     0     3   A   \n",
       "\n",
       "         Referee  ...  HST  AST  HF  AF  HC  AC  HY  AY  HR  AR  \n",
       "0  M Clattenburg  ...    5    7  15  14   4   6   2   2   0   0  \n",
       "1         M Dean  ...    9    5  12   9   5   4   2   1   0   0  \n",
       "2     A Marriner  ...    3   13  16  10   4   7   2   1   0   0  \n",
       "3        A Wiley  ...   12    3  13  15  12   4   1   2   0   0  \n",
       "4       M Halsey  ...    5    9  11  13   4   9   0   0   0   0  \n",
       "\n",
       "[5 rows x 22 columns]"
      ]
     },
     "execution_count": 3,
     "metadata": {},
     "output_type": "execute_result"
    }
   ],
   "source": [
    "data = data.dropna()\n",
    "data.head()"
   ]
  },
  {
   "cell_type": "code",
   "execution_count": 4,
   "metadata": {},
   "outputs": [],
   "source": [
    "import matplotlib.pyplot as plt\n",
    "HWins = np.sum(data.FTR == 'H')\n",
    "AWins = np.sum(data.FTR == 'A')\n",
    "DWins = np.sum(data.FTR == 'D')\n",
    "labels = ['Home', 'Away', 'Draw']"
   ]
  },
  {
   "cell_type": "code",
   "execution_count": 5,
   "metadata": {},
   "outputs": [
    {
     "data": {
      "image/png": "[encoded data removed]",
      "text/plain": [
       "<Figure size 432x288 with 1 Axes>"
      ]
     },
     "metadata": {},
     "output_type": "display_data"
    }
   ],
   "source": [
    "sizes = [HWins, AWins, DWins]\n",
    "colors = ['blue', 'red', 'green']\n",
    "patches, texts, juck = plt.pie(sizes, labels = sizes , colors=colors, shadow=True, startangle=90, radius = 2, autopct='%1.1f%%')\n",
    "plt.title(\"Dataset Results\",size=15,fontweight='bold')\n",
    "plt.legend(patches, labels, loc=\"upper left\")\n",
    "plt.axis('equal')\n",
    "plt.show()"
   ]
  },
  {
   "cell_type": "code",
   "execution_count": 6,
   "metadata": {},
   "outputs": [
    {
     "name": "stdout",
     "output_type": "stream",
     "text": [
      "\n",
      "\n",
      "Teams \n"
     ]
    },
    {
     "data": {
      "text/plain": [
       "['Aston Villa',\n",
       " 'Blackburn',\n",
       " 'Bolton',\n",
       " 'Chelsea',\n",
       " 'Everton',\n",
       " 'Portsmouth',\n",
       " 'Stoke',\n",
       " 'Wolves',\n",
       " 'Man United',\n",
       " 'Tottenham',\n",
       " 'Sunderland',\n",
       " 'Wigan',\n",
       " 'Birmingham',\n",
       " 'Burnley',\n",
       " 'Hull',\n",
       " 'Liverpool',\n",
       " 'Arsenal',\n",
       " 'Man City',\n",
       " 'Fulham',\n",
       " 'West Ham',\n",
       " 'West Brom',\n",
       " 'Newcastle',\n",
       " 'Blackpool',\n",
       " 'QPR',\n",
       " 'Swansea',\n",
       " 'Norwich',\n",
       " 'Reading',\n",
       " 'Southampton',\n",
       " 'Crystal Palace',\n",
       " 'Cardiff',\n",
       " 'Leicester',\n",
       " 'Bournemouth',\n",
       " 'Watford',\n",
       " 'Middlesbrough',\n",
       " 'Brighton',\n",
       " 'Huddersfield',\n",
       " 'Sheffield United',\n",
       " 'Leeds']"
      ]
     },
     "metadata": {},
     "output_type": "display_data"
    }
   ],
   "source": [
    "team_name_list = data['HomeTeam']\n",
    "team_name=[]\n",
    "for teams in team_name_list:\n",
    "    if teams not in team_name:\n",
    "        team_name.append(teams)\n",
    "print(\"\\n\\nTeams \")\n",
    "display(team_name)"
   ]
  },
  {
   "cell_type": "code",
   "execution_count": 7,
   "metadata": {},
   "outputs": [],
   "source": [
    "def getTeamData(teamName):\n",
    "    print(\"\\nTEAM NAME: \"+ teamName + \"\\n\")\n",
    "    \n",
    "    #Total Number of Goals\n",
    "    gamesHome = data[data['HomeTeam']== teamName]\n",
    "    totalGoalsScored = gamesHome['FTHG'].sum()\n",
    "    gamesAway = data[data['AwayTeam'] == teamName]\n",
    "    totalGames = gamesHome.append(gamesAway)\n",
    "    numGames = len(totalGames.index)\n",
    "    totalGoalsScored += gamesAway['FTAG'].sum() \n",
    "    \n",
    "    \n",
    "    #Allowed Goals\n",
    "    totalGoalsAllowed = gamesHome['FTHG'].sum()\n",
    "    totalGoalsAllowed += gamesAway['FTAG'].sum()\n",
    "    \n",
    "    #Discipline Cards\n",
    "    totalYellowCards = gamesHome['HY'].sum()\n",
    "    totalYellowCards += gamesAway['AY'].sum()\n",
    "    totalRedCards = gamesHome['HR'].sum()\n",
    "    totalRedCards += gamesAway['AR'].sum()\n",
    "    \n",
    "    #Total Fouls\n",
    "    totalFouls = gamesHome['HF'].sum()\n",
    "    totalFouls += gamesAway['AF'].sum()\n",
    "    \n",
    "    \n",
    "    #Total Corners\n",
    "    totalCorners = gamesHome['HC'].sum()\n",
    "    totalCorners += gamesAway['AC'].sum()\n",
    "    \n",
    "    \n",
    "    #Shots Per Game AVG\n",
    "    totalShots = gamesHome['HS'].sum()\n",
    "    totalShots += gamesAway['AS'].sum()\n",
    "    \n",
    "    #Avg Shots Allowed Per Game\n",
    "    totalShotsAgainst = gamesHome['AS'].sum()\n",
    "    totalShotsAgainst += gamesAway['HS'].sum()\n",
    "    if numGames != 0:\n",
    "        HSPG = totalShots / numGames #HomeShotsPerGame\n",
    "        ASPG = totalShotsAgainst / numGames #AwayShotsPerGame\n",
    "        display(\"HSPG: {}\".format(HSPG))\n",
    "        display(\"ASPG: {}\".format(ASPG))\n",
    "    \n",
    "    #Winning %\n",
    "    gamesWon = totalGames[totalGames['FTR']== \"H\"]\n",
    "    gamesLost = totalGames[totalGames['FTR'] == \"A\"]\n",
    "    gamesDraw = totalGames[totalGames['FTR'] == \"D\"]\n",
    "    numGamesWon = len(gamesWon.index)\n",
    "    numGamesLost = len(gamesLost.index)\n",
    "    numGamesDraw = len(gamesDraw.index)\n",
    "    \n",
    "    if numGames != 0:\n",
    "        gamesWonPercent = numGamesWon / numGames\n",
    "        gamesLostPercent = numGamesLost / numGames\n",
    "        gamesDrawPercent = numGamesDraw / numGames \n",
    "    \n",
    "    print(\"Games Win Percent: {}\".format(gamesWonPercent))\n",
    "    print(\"Games Loose Percent: {}\".format(gamesLostPercent))\n",
    "    print(\"Games Draw Percent: {}\".format(gamesDrawPercent))\n",
    "    \n",
    "    \n",
    "    #Total shots on target:\n",
    "    totalShotsOnTarget = gamesHome['HST'].sum()\n",
    "    totalShotsOnTarget += gamesAway['AST'].sum()\n",
    "    \n",
    "    #GoalSaves\n",
    "    goalSaves = totalShotsOnTarget - totalGoalsAllowed\n",
    "    \n",
    "    #Goal Save Percentage\n",
    "    if totalShotsOnTarget != 0:\n",
    "        goalSavesPercent = goalSaves / totalShotsOnTarget\n",
    "        \n",
    "    #Goal Save Ratio\n",
    "    if goalSaves != 0:\n",
    "        saveRatio = totalShotsOnTarget / goalSaves\n",
    "    \n",
    "    #Goal scoring Percent\n",
    "    if totalShots != 0 :\n",
    "        scoringPercent = (totalShots - totalGoalsScored)/totalShots\n",
    "    \n",
    "    #Goal scoring Ration\n",
    "    if totalGoalsScored != 0:\n",
    "        scoringRatio = totalShotsOnTarget / totalGoalsScored\n",
    "        \n",
    "    if numGames == 0: \n",
    "        gamesWon = 0\n",
    "        gamesLost = 0\n",
    "        gamesDraw = 0 \n",
    "        totalGoalsScored = 0 \n",
    "        totalShotsOnTarget = 0 \n",
    "        totalGoalsAllowed = 0 \n",
    "        totalYellowCards = 0 \n",
    "        totalRedCards = 0 \n",
    "        totalFouls = 0 \n",
    "        totalCorners = 0 \n",
    "        totalShots = 0 \n",
    "        totalShotsAgainst = 0 \n",
    "        HSPG = 0 #HomeShotsPerGame \n",
    "        ASPG = 0 #AwayShotsPerGame \n",
    "        goalSaves = 0 \n",
    "        goalSavesPercent = 0 \n",
    "        scoringPercent = 0 \n",
    "        saveRatio = 0 \n",
    "        scoringRatio = 0\n",
    "    \n",
    "    return [teamName, totalGoalsScored, totalShotsOnTarget, totalGoalsAllowed, \n",
    "            totalYellowCards, totalRedCards,totalFouls, totalCorners, \n",
    "            totalShots, totalShotsAgainst, HSPG, ASPG, goalSaves, goalSavesPercent, scoringPercent,\n",
    "            saveRatio, scoringRatio]"
   ]
  },
  {
   "cell_type": "code",
   "execution_count": 8,
   "metadata": {},
   "outputs": [
    {
     "name": "stdout",
     "output_type": "stream",
     "text": [
      "\n",
      "TEAM NAME: Aston Villa\n",
      "\n"
     ]
    },
    {
     "data": {
      "text/plain": [
       "'HSPG: 11.239766081871345'"
      ]
     },
     "metadata": {},
     "output_type": "display_data"
    },
    {
     "data": {
      "text/plain": [
       "'ASPG: 13.728070175438596'"
      ]
     },
     "metadata": {},
     "output_type": "display_data"
    },
    {
     "name": "stdout",
     "output_type": "stream",
     "text": [
      "Games Win Percent: 0.40058479532163743\n",
      "Games Loose Percent: 0.3304093567251462\n",
      "Games Draw Percent: 0.26900584795321636\n",
      "\n",
      "TEAM NAME: Blackburn\n",
      "\n"
     ]
    },
    {
     "data": {
      "text/plain": [
       "'HSPG: 10.824561403508772'"
      ]
     },
     "metadata": {},
     "output_type": "display_data"
    },
    {
     "data": {
      "text/plain": [
       "'ASPG: 13.728070175438596'"
      ]
     },
     "metadata": {},
     "output_type": "display_data"
    },
    {
     "name": "stdout",
     "output_type": "stream",
     "text": [
      "Games Win Percent: 0.5\n",
      "Games Loose Percent: 0.2543859649122807\n",
      "Games Draw Percent: 0.24561403508771928\n",
      "\n",
      "TEAM NAME: Bolton\n",
      "\n"
     ]
    },
    {
     "data": {
      "text/plain": [
       "'HSPG: 12.324561403508772'"
      ]
     },
     "metadata": {},
     "output_type": "display_data"
    },
    {
     "data": {
      "text/plain": [
       "'ASPG: 14.464912280701755'"
      ]
     },
     "metadata": {},
     "output_type": "display_data"
    },
    {
     "name": "stdout",
     "output_type": "stream",
     "text": [
      "Games Win Percent: 0.4824561403508772\n",
      "Games Loose Percent: 0.2982456140350877\n",
      "Games Draw Percent: 0.21929824561403508\n",
      "\n",
      "TEAM NAME: Chelsea\n",
      "\n"
     ]
    },
    {
     "data": {
      "text/plain": [
       "'HSPG: 15.951754385964913'"
      ]
     },
     "metadata": {},
     "output_type": "display_data"
    },
    {
     "data": {
      "text/plain": [
       "'ASPG: 10.008771929824562'"
      ]
     },
     "metadata": {},
     "output_type": "display_data"
    },
    {
     "name": "stdout",
     "output_type": "stream",
     "text": [
      "Games Win Percent: 0.47368421052631576\n",
      "Games Loose Percent: 0.31359649122807015\n",
      "Games Draw Percent: 0.21271929824561403\n",
      "\n",
      "TEAM NAME: Everton\n",
      "\n"
     ]
    },
    {
     "data": {
      "text/plain": [
       "'HSPG: 12.74780701754386'"
      ]
     },
     "metadata": {},
     "output_type": "display_data"
    },
    {
     "data": {
      "text/plain": [
       "'ASPG: 12.179824561403509'"
      ]
     },
     "metadata": {},
     "output_type": "display_data"
    },
    {
     "name": "stdout",
     "output_type": "stream",
     "text": [
      "Games Win Percent: 0.4473684210526316\n",
      "Games Loose Percent: 0.2565789473684211\n",
      "Games Draw Percent: 0.29605263157894735\n",
      "\n",
      "TEAM NAME: Portsmouth\n",
      "\n"
     ]
    },
    {
     "data": {
      "text/plain": [
       "'HSPG: 12.263157894736842'"
      ]
     },
     "metadata": {},
     "output_type": "display_data"
    },
    {
     "data": {
      "text/plain": [
       "'ASPG: 13.447368421052632'"
      ]
     },
     "metadata": {},
     "output_type": "display_data"
    },
    {
     "name": "stdout",
     "output_type": "stream",
     "text": [
      "Games Win Percent: 0.47368421052631576\n",
      "Games Loose Percent: 0.34210526315789475\n",
      "Games Draw Percent: 0.18421052631578946\n",
      "\n",
      "TEAM NAME: Stoke\n",
      "\n"
     ]
    },
    {
     "data": {
      "text/plain": [
       "'HSPG: 10.45906432748538'"
      ]
     },
     "metadata": {},
     "output_type": "display_data"
    },
    {
     "data": {
      "text/plain": [
       "'ASPG: 13.38888888888889'"
      ]
     },
     "metadata": {},
     "output_type": "display_data"
    },
    {
     "name": "stdout",
     "output_type": "stream",
     "text": [
      "Games Win Percent: 0.4619883040935672\n",
      "Games Loose Percent: 0.24561403508771928\n",
      "Games Draw Percent: 0.29239766081871343\n",
      "\n",
      "TEAM NAME: Wolves\n",
      "\n"
     ]
    },
    {
     "data": {
      "text/plain": [
       "'HSPG: 11.201754385964913'"
      ]
     },
     "metadata": {},
     "output_type": "display_data"
    },
    {
     "data": {
      "text/plain": [
       "'ASPG: 12.758771929824562'"
      ]
     },
     "metadata": {},
     "output_type": "display_data"
    },
    {
     "name": "stdout",
     "output_type": "stream",
     "text": [
      "Games Win Percent: 0.42105263157894735\n",
      "Games Loose Percent: 0.3157894736842105\n",
      "Games Draw Percent: 0.2631578947368421\n",
      "\n",
      "TEAM NAME: Man United\n",
      "\n"
     ]
    },
    {
     "data": {
      "text/plain": [
       "'HSPG: 14.076754385964913'"
      ]
     },
     "metadata": {},
     "output_type": "display_data"
    },
    {
     "data": {
      "text/plain": [
       "'ASPG: 10.971491228070175'"
      ]
     },
     "metadata": {},
     "output_type": "display_data"
    },
    {
     "name": "stdout",
     "output_type": "stream",
     "text": [
      "Games Win Percent: 0.4517543859649123\n",
      "Games Loose Percent: 0.3201754385964912\n",
      "Games Draw Percent: 0.22807017543859648\n",
      "\n",
      "TEAM NAME: Tottenham\n",
      "\n"
     ]
    },
    {
     "data": {
      "text/plain": [
       "'HSPG: 15.118421052631579'"
      ]
     },
     "metadata": {},
     "output_type": "display_data"
    },
    {
     "data": {
      "text/plain": [
       "'ASPG: 11.458333333333334'"
      ]
     },
     "metadata": {},
     "output_type": "display_data"
    },
    {
     "name": "stdout",
     "output_type": "stream",
     "text": [
      "Games Win Percent: 0.4649122807017544\n",
      "Games Loose Percent: 0.31140350877192985\n",
      "Games Draw Percent: 0.2236842105263158\n",
      "\n",
      "TEAM NAME: Sunderland\n",
      "\n"
     ]
    },
    {
     "data": {
      "text/plain": [
       "'HSPG: 11.016447368421053'"
      ]
     },
     "metadata": {},
     "output_type": "display_data"
    },
    {
     "data": {
      "text/plain": [
       "'ASPG: 15.05921052631579'"
      ]
     },
     "metadata": {},
     "output_type": "display_data"
    },
    {
     "name": "stdout",
     "output_type": "stream",
     "text": [
      "Games Win Percent: 0.4243421052631579\n",
      "Games Loose Percent: 0.28289473684210525\n",
      "Games Draw Percent: 0.29276315789473684\n",
      "\n",
      "TEAM NAME: Wigan\n",
      "\n"
     ]
    },
    {
     "data": {
      "text/plain": [
       "'HSPG: 12.210526315789474'"
      ]
     },
     "metadata": {},
     "output_type": "display_data"
    },
    {
     "data": {
      "text/plain": [
       "'ASPG: 12.55921052631579'"
      ]
     },
     "metadata": {},
     "output_type": "display_data"
    },
    {
     "name": "stdout",
     "output_type": "stream",
     "text": [
      "Games Win Percent: 0.4144736842105263\n",
      "Games Loose Percent: 0.3026315789473684\n",
      "Games Draw Percent: 0.28289473684210525\n",
      "\n",
      "TEAM NAME: Birmingham\n",
      "\n"
     ]
    },
    {
     "data": {
      "text/plain": [
       "'HSPG: 9.210526315789474'"
      ]
     },
     "metadata": {},
     "output_type": "display_data"
    },
    {
     "data": {
      "text/plain": [
       "'ASPG: 14.75'"
      ]
     },
     "metadata": {},
     "output_type": "display_data"
    },
    {
     "name": "stdout",
     "output_type": "stream",
     "text": [
      "Games Win Percent: 0.47368421052631576\n",
      "Games Loose Percent: 0.18421052631578946\n",
      "Games Draw Percent: 0.34210526315789475\n",
      "\n",
      "TEAM NAME: Burnley\n",
      "\n"
     ]
    },
    {
     "data": {
      "text/plain": [
       "'HSPG: 10.281954887218046'"
      ]
     },
     "metadata": {},
     "output_type": "display_data"
    },
    {
     "data": {
      "text/plain": [
       "'ASPG: 15.56766917293233'"
      ]
     },
     "metadata": {},
     "output_type": "display_data"
    },
    {
     "name": "stdout",
     "output_type": "stream",
     "text": [
      "Games Win Percent: 0.4548872180451128\n",
      "Games Loose Percent: 0.31203007518796994\n",
      "Games Draw Percent: 0.23308270676691728\n",
      "\n",
      "TEAM NAME: Hull\n",
      "\n"
     ]
    },
    {
     "data": {
      "text/plain": [
       "'HSPG: 10.43421052631579'"
      ]
     },
     "metadata": {},
     "output_type": "display_data"
    },
    {
     "data": {
      "text/plain": [
       "'ASPG: 14.743421052631579'"
      ]
     },
     "metadata": {},
     "output_type": "display_data"
    },
    {
     "name": "stdout",
     "output_type": "stream",
     "text": [
      "Games Win Percent: 0.506578947368421\n",
      "Games Loose Percent: 0.25\n",
      "Games Draw Percent: 0.24342105263157895\n",
      "\n",
      "TEAM NAME: Liverpool\n",
      "\n"
     ]
    },
    {
     "data": {
      "text/plain": [
       "'HSPG: 15.776315789473685'"
      ]
     },
     "metadata": {},
     "output_type": "display_data"
    },
    {
     "data": {
      "text/plain": [
       "'ASPG: 9.550438596491228'"
      ]
     },
     "metadata": {},
     "output_type": "display_data"
    },
    {
     "name": "stdout",
     "output_type": "stream",
     "text": [
      "Games Win Percent: 0.4649122807017544\n",
      "Games Loose Percent: 0.3026315789473684\n",
      "Games Draw Percent: 0.2324561403508772\n",
      "\n",
      "TEAM NAME: Arsenal\n",
      "\n"
     ]
    },
    {
     "data": {
      "text/plain": [
       "'HSPG: 14.221491228070175'"
      ]
     },
     "metadata": {},
     "output_type": "display_data"
    },
    {
     "data": {
      "text/plain": [
       "'ASPG: 10.949561403508772'"
      ]
     },
     "metadata": {},
     "output_type": "display_data"
    },
    {
     "name": "stdout",
     "output_type": "stream",
     "text": [
      "Games Win Percent: 0.48903508771929827\n",
      "Games Loose Percent: 0.2894736842105263\n",
      "Games Draw Percent: 0.22149122807017543\n",
      "\n",
      "TEAM NAME: Man City\n",
      "\n"
     ]
    },
    {
     "data": {
      "text/plain": [
       "'HSPG: 16.403508771929825'"
      ]
     },
     "metadata": {},
     "output_type": "display_data"
    },
    {
     "data": {
      "text/plain": [
       "'ASPG: 8.756578947368421'"
      ]
     },
     "metadata": {},
     "output_type": "display_data"
    },
    {
     "name": "stdout",
     "output_type": "stream",
     "text": [
      "Games Win Percent: 0.4956140350877193\n",
      "Games Loose Percent: 0.33114035087719296\n",
      "Games Draw Percent: 0.17324561403508773\n",
      "\n",
      "TEAM NAME: Fulham\n",
      "\n"
     ]
    },
    {
     "data": {
      "text/plain": [
       "'HSPG: 11.563909774436091'"
      ]
     },
     "metadata": {},
     "output_type": "display_data"
    },
    {
     "data": {
      "text/plain": [
       "'ASPG: 13.924812030075188'"
      ]
     },
     "metadata": {},
     "output_type": "display_data"
    },
    {
     "name": "stdout",
     "output_type": "stream",
     "text": [
      "Games Win Percent: 0.4548872180451128\n",
      "Games Loose Percent: 0.2857142857142857\n",
      "Games Draw Percent: 0.2593984962406015\n",
      "\n",
      "TEAM NAME: West Ham\n",
      "\n"
     ]
    },
    {
     "data": {
      "text/plain": [
       "'HSPG: 12.007177033492823'"
      ]
     },
     "metadata": {},
     "output_type": "display_data"
    },
    {
     "data": {
      "text/plain": [
       "'ASPG: 14.375598086124402'"
      ]
     },
     "metadata": {},
     "output_type": "display_data"
    },
    {
     "name": "stdout",
     "output_type": "stream",
     "text": [
      "Games Win Percent: 0.45215311004784686\n",
      "Games Loose Percent: 0.284688995215311\n",
      "Games Draw Percent: 0.2631578947368421\n",
      "\n",
      "TEAM NAME: West Brom\n",
      "\n"
     ]
    },
    {
     "data": {
      "text/plain": [
       "'HSPG: 11.251461988304094'"
      ]
     },
     "metadata": {},
     "output_type": "display_data"
    },
    {
     "data": {
      "text/plain": [
       "'ASPG: 13.903508771929825'"
      ]
     },
     "metadata": {},
     "output_type": "display_data"
    },
    {
     "name": "stdout",
     "output_type": "stream",
     "text": [
      "Games Win Percent: 0.41228070175438597\n",
      "Games Loose Percent: 0.30116959064327486\n",
      "Games Draw Percent: 0.28654970760233917\n",
      "\n",
      "TEAM NAME: Newcastle\n",
      "\n"
     ]
    },
    {
     "data": {
      "text/plain": [
       "'HSPG: 11.802631578947368'"
      ]
     },
     "metadata": {},
     "output_type": "display_data"
    },
    {
     "data": {
      "text/plain": [
       "'ASPG: 13.042105263157895'"
      ]
     },
     "metadata": {},
     "output_type": "display_data"
    },
    {
     "name": "stdout",
     "output_type": "stream",
     "text": [
      "Games Win Percent: 0.46842105263157896\n",
      "Games Loose Percent: 0.29736842105263156\n",
      "Games Draw Percent: 0.23421052631578948\n",
      "\n",
      "TEAM NAME: Blackpool\n",
      "\n"
     ]
    },
    {
     "data": {
      "text/plain": [
       "'HSPG: 11.736842105263158'"
      ]
     },
     "metadata": {},
     "output_type": "display_data"
    },
    {
     "data": {
      "text/plain": [
       "'ASPG: 16.57894736842105'"
      ]
     },
     "metadata": {},
     "output_type": "display_data"
    },
    {
     "name": "stdout",
     "output_type": "stream",
     "text": [
      "Games Win Percent: 0.39473684210526316\n",
      "Games Loose Percent: 0.3684210526315789\n",
      "Games Draw Percent: 0.23684210526315788\n",
      "\n",
      "TEAM NAME: QPR\n",
      "\n"
     ]
    },
    {
     "data": {
      "text/plain": [
       "'HSPG: 13.087719298245615'"
      ]
     },
     "metadata": {},
     "output_type": "display_data"
    },
    {
     "data": {
      "text/plain": [
       "'ASPG: 15.12280701754386'"
      ]
     },
     "metadata": {},
     "output_type": "display_data"
    },
    {
     "name": "stdout",
     "output_type": "stream",
     "text": [
      "Games Win Percent: 0.5\n",
      "Games Loose Percent: 0.2719298245614035\n",
      "Games Draw Percent: 0.22807017543859648\n",
      "\n",
      "TEAM NAME: Swansea\n",
      "\n"
     ]
    },
    {
     "data": {
      "text/plain": [
       "'HSPG: 11.142857142857142'"
      ]
     },
     "metadata": {},
     "output_type": "display_data"
    },
    {
     "data": {
      "text/plain": [
       "'ASPG: 13.778195488721805'"
      ]
     },
     "metadata": {},
     "output_type": "display_data"
    },
    {
     "name": "stdout",
     "output_type": "stream",
     "text": [
      "Games Win Percent: 0.46616541353383456\n",
      "Games Loose Percent: 0.2857142857142857\n",
      "Games Draw Percent: 0.24812030075187969\n",
      "\n",
      "TEAM NAME: Norwich\n",
      "\n"
     ]
    },
    {
     "data": {
      "text/plain": [
       "'HSPG: 11.23157894736842'"
      ]
     },
     "metadata": {},
     "output_type": "display_data"
    },
    {
     "data": {
      "text/plain": [
       "'ASPG: 14.263157894736842'"
      ]
     },
     "metadata": {},
     "output_type": "display_data"
    },
    {
     "name": "stdout",
     "output_type": "stream",
     "text": [
      "Games Win Percent: 0.48947368421052634\n",
      "Games Loose Percent: 0.2631578947368421\n",
      "Games Draw Percent: 0.24736842105263157\n",
      "\n",
      "TEAM NAME: Reading\n",
      "\n"
     ]
    },
    {
     "data": {
      "text/plain": [
       "'HSPG: 9.236842105263158'"
      ]
     },
     "metadata": {},
     "output_type": "display_data"
    },
    {
     "data": {
      "text/plain": [
       "'ASPG: 17.05263157894737'"
      ]
     },
     "metadata": {},
     "output_type": "display_data"
    },
    {
     "name": "stdout",
     "output_type": "stream",
     "text": [
      "Games Win Percent: 0.5\n",
      "Games Loose Percent: 0.23684210526315788\n",
      "Games Draw Percent: 0.2631578947368421\n",
      "\n",
      "TEAM NAME: Southampton\n",
      "\n"
     ]
    },
    {
     "data": {
      "text/plain": [
       "'HSPG: 12.956140350877194'"
      ]
     },
     "metadata": {},
     "output_type": "display_data"
    },
    {
     "data": {
      "text/plain": [
       "'ASPG: 11.54093567251462'"
      ]
     },
     "metadata": {},
     "output_type": "display_data"
    },
    {
     "name": "stdout",
     "output_type": "stream",
     "text": [
      "Games Win Percent: 0.4152046783625731\n",
      "Games Loose Percent: 0.31871345029239767\n",
      "Games Draw Percent: 0.26608187134502925\n",
      "\n",
      "TEAM NAME: Crystal Palace\n",
      "\n"
     ]
    },
    {
     "data": {
      "text/plain": [
       "'HSPG: 11.338815789473685'"
      ]
     },
     "metadata": {},
     "output_type": "display_data"
    },
    {
     "data": {
      "text/plain": [
       "'ASPG: 13.730263157894736'"
      ]
     },
     "metadata": {},
     "output_type": "display_data"
    },
    {
     "name": "stdout",
     "output_type": "stream",
     "text": [
      "Games Win Percent: 0.3980263157894737\n",
      "Games Loose Percent: 0.3881578947368421\n",
      "Games Draw Percent: 0.2138157894736842\n",
      "\n",
      "TEAM NAME: Cardiff\n",
      "\n"
     ]
    },
    {
     "data": {
      "text/plain": [
       "'HSPG: 11.0'"
      ]
     },
     "metadata": {},
     "output_type": "display_data"
    },
    {
     "data": {
      "text/plain": [
       "'ASPG: 16.61842105263158'"
      ]
     },
     "metadata": {},
     "output_type": "display_data"
    },
    {
     "name": "stdout",
     "output_type": "stream",
     "text": [
      "Games Win Percent: 0.4868421052631579\n",
      "Games Loose Percent: 0.34210526315789475\n",
      "Games Draw Percent: 0.17105263157894737\n",
      "\n",
      "TEAM NAME: Leicester\n",
      "\n"
     ]
    },
    {
     "data": {
      "text/plain": [
       "'HSPG: 12.669172932330827'"
      ]
     },
     "metadata": {},
     "output_type": "display_data"
    },
    {
     "data": {
      "text/plain": [
       "'ASPG: 12.357142857142858'"
      ]
     },
     "metadata": {},
     "output_type": "display_data"
    },
    {
     "name": "stdout",
     "output_type": "stream",
     "text": [
      "Games Win Percent: 0.4473684210526316\n",
      "Games Loose Percent: 0.32706766917293234\n",
      "Games Draw Percent: 0.22556390977443608\n",
      "\n",
      "TEAM NAME: Bournemouth\n",
      "\n"
     ]
    },
    {
     "data": {
      "text/plain": [
       "'HSPG: 11.636842105263158'"
      ]
     },
     "metadata": {},
     "output_type": "display_data"
    },
    {
     "data": {
      "text/plain": [
       "'ASPG: 13.757894736842106'"
      ]
     },
     "metadata": {},
     "output_type": "display_data"
    },
    {
     "name": "stdout",
     "output_type": "stream",
     "text": [
      "Games Win Percent: 0.46842105263157896\n",
      "Games Loose Percent: 0.30526315789473685\n",
      "Games Draw Percent: 0.22631578947368422\n",
      "\n",
      "TEAM NAME: Watford\n",
      "\n"
     ]
    },
    {
     "data": {
      "text/plain": [
       "'HSPG: 11.378947368421052'"
      ]
     },
     "metadata": {},
     "output_type": "display_data"
    },
    {
     "data": {
      "text/plain": [
       "'ASPG: 12.842105263157896'"
      ]
     },
     "metadata": {},
     "output_type": "display_data"
    },
    {
     "name": "stdout",
     "output_type": "stream",
     "text": [
      "Games Win Percent: 0.4842105263157895\n",
      "Games Loose Percent: 0.29473684210526313\n",
      "Games Draw Percent: 0.22105263157894736\n",
      "\n",
      "TEAM NAME: Middlesbrough\n",
      "\n"
     ]
    },
    {
     "data": {
      "text/plain": [
       "'HSPG: 9.18421052631579'"
      ]
     },
     "metadata": {},
     "output_type": "display_data"
    },
    {
     "data": {
      "text/plain": [
       "'ASPG: 14.421052631578947'"
      ]
     },
     "metadata": {},
     "output_type": "display_data"
    },
    {
     "name": "stdout",
     "output_type": "stream",
     "text": [
      "Games Win Percent: 0.39473684210526316\n",
      "Games Loose Percent: 0.2631578947368421\n",
      "Games Draw Percent: 0.34210526315789475\n",
      "\n",
      "TEAM NAME: Brighton\n",
      "\n"
     ]
    },
    {
     "data": {
      "text/plain": [
       "'HSPG: 11.157894736842104'"
      ]
     },
     "metadata": {},
     "output_type": "display_data"
    },
    {
     "data": {
      "text/plain": [
       "'ASPG: 13.111842105263158'"
      ]
     },
     "metadata": {},
     "output_type": "display_data"
    },
    {
     "name": "stdout",
     "output_type": "stream",
     "text": [
      "Games Win Percent: 0.4144736842105263\n",
      "Games Loose Percent: 0.2565789473684211\n",
      "Games Draw Percent: 0.32894736842105265\n",
      "\n",
      "TEAM NAME: Huddersfield\n",
      "\n"
     ]
    },
    {
     "data": {
      "text/plain": [
       "'HSPG: 10.0'"
      ]
     },
     "metadata": {},
     "output_type": "display_data"
    },
    {
     "data": {
      "text/plain": [
       "'ASPG: 12.644736842105264'"
      ]
     },
     "metadata": {},
     "output_type": "display_data"
    },
    {
     "name": "stdout",
     "output_type": "stream",
     "text": [
      "Games Win Percent: 0.4342105263157895\n",
      "Games Loose Percent: 0.34210526315789475\n",
      "Games Draw Percent: 0.2236842105263158\n",
      "\n",
      "TEAM NAME: Sheffield United\n",
      "\n"
     ]
    },
    {
     "data": {
      "text/plain": [
       "'HSPG: 8.93421052631579'"
      ]
     },
     "metadata": {},
     "output_type": "display_data"
    },
    {
     "data": {
      "text/plain": [
       "'ASPG: 12.789473684210526'"
      ]
     },
     "metadata": {},
     "output_type": "display_data"
    },
    {
     "name": "stdout",
     "output_type": "stream",
     "text": [
      "Games Win Percent: 0.4868421052631579\n",
      "Games Loose Percent: 0.32894736842105265\n",
      "Games Draw Percent: 0.18421052631578946\n",
      "\n",
      "TEAM NAME: Leeds\n",
      "\n"
     ]
    },
    {
     "data": {
      "text/plain": [
       "'HSPG: 13.736842105263158'"
      ]
     },
     "metadata": {},
     "output_type": "display_data"
    },
    {
     "data": {
      "text/plain": [
       "'ASPG: 14.68421052631579'"
      ]
     },
     "metadata": {},
     "output_type": "display_data"
    },
    {
     "name": "stdout",
     "output_type": "stream",
     "text": [
      "Games Win Percent: 0.4473684210526316\n",
      "Games Loose Percent: 0.42105263157894735\n",
      "Games Draw Percent: 0.13157894736842105\n"
     ]
    }
   ],
   "source": [
    "newStatList = []\n",
    "for team in team_name:\n",
    "    team_vector = getTeamData(team) \n",
    "    newStatList.append(team_vector)\n",
    "    \n",
    "teamStats = pd.DataFrame(newStatList, columns=['TeamName', 'totalGoalsScored', 'totalShotsOnTarget', 'totalGoalsAllowed', \n",
    "            'totalYellowCards', 'totalRedCards','totalFouls', 'totalCorners', \n",
    "            'totalShots', 'totalShotsAgainst', 'HSPG', 'ASPG', 'goalSaves', 'goalSavesPercent', 'scoringPercent',\n",
    "            'saveRatio', 'scoringRatio'])"
   ]
  },
  {
   "cell_type": "code",
   "execution_count": 9,
   "metadata": {},
   "outputs": [],
   "source": [
    "\n",
    "filteredData = data[(data.HomeTeam.isin(team_name))]\n",
    "data = filteredData[(filteredData.AwayTeam.isin(team_name))]"
   ]
  },
  {
   "cell_type": "code",
   "execution_count": 10,
   "metadata": {},
   "outputs": [],
   "source": [
    "A = data.drop(['FTR'],1)\n",
    "B = data['FTR']\n",
    "C = A.drop(['Date','HTR','Referee'],1)\n",
    "\n",
    "# Standardising the data.\n",
    "from sklearn.preprocessing import scale\n",
    "#Center to the mean and component wise scale to unit variance.\n",
    "cols = [['FTHG','FTAG','HTHG','HTAG','HS','AS','HST','HF','AF','HY','AY','HR','AR','HC','AC','AST','HC','AC']]\n",
    "for col in cols:\n",
    "    A[col] = scale(A[col])"
   ]
  },
  {
   "cell_type": "code",
   "execution_count": 11,
   "metadata": {},
   "outputs": [
    {
     "data": {
      "text/html": [
       "<div>\n",
       "<style scoped>\n",
       "    .dataframe tbody tr th:only-of-type {\n",
       "        vertical-align: middle;\n",
       "    }\n",
       "\n",
       "    .dataframe tbody tr th {\n",
       "        vertical-align: top;\n",
       "    }\n",
       "\n",
       "    .dataframe thead th {\n",
       "        text-align: right;\n",
       "    }\n",
       "</style>\n",
       "<table border=\"1\" class=\"dataframe\">\n",
       "  <thead>\n",
       "    <tr style=\"text-align: right;\">\n",
       "      <th></th>\n",
       "      <th>HomeTeam</th>\n",
       "      <th>AwayTeam</th>\n",
       "      <th>FTHG</th>\n",
       "      <th>FTAG</th>\n",
       "      <th>HTHG</th>\n",
       "      <th>HTAG</th>\n",
       "      <th>HS</th>\n",
       "      <th>AS</th>\n",
       "      <th>HST</th>\n",
       "      <th>AST</th>\n",
       "      <th>HF</th>\n",
       "      <th>AF</th>\n",
       "      <th>HC</th>\n",
       "      <th>AC</th>\n",
       "      <th>HY</th>\n",
       "      <th>AY</th>\n",
       "    </tr>\n",
       "  </thead>\n",
       "  <tbody>\n",
       "    <tr>\n",
       "      <th>0</th>\n",
       "      <td>Aston Villa</td>\n",
       "      <td>Wigan</td>\n",
       "      <td>0</td>\n",
       "      <td>2</td>\n",
       "      <td>0</td>\n",
       "      <td>1</td>\n",
       "      <td>11</td>\n",
       "      <td>14</td>\n",
       "      <td>5</td>\n",
       "      <td>7</td>\n",
       "      <td>15</td>\n",
       "      <td>14</td>\n",
       "      <td>4</td>\n",
       "      <td>6</td>\n",
       "      <td>2</td>\n",
       "      <td>2</td>\n",
       "    </tr>\n",
       "    <tr>\n",
       "      <th>1</th>\n",
       "      <td>Blackburn</td>\n",
       "      <td>Man City</td>\n",
       "      <td>0</td>\n",
       "      <td>2</td>\n",
       "      <td>0</td>\n",
       "      <td>1</td>\n",
       "      <td>17</td>\n",
       "      <td>8</td>\n",
       "      <td>9</td>\n",
       "      <td>5</td>\n",
       "      <td>12</td>\n",
       "      <td>9</td>\n",
       "      <td>5</td>\n",
       "      <td>4</td>\n",
       "      <td>2</td>\n",
       "      <td>1</td>\n",
       "    </tr>\n",
       "    <tr>\n",
       "      <th>2</th>\n",
       "      <td>Bolton</td>\n",
       "      <td>Sunderland</td>\n",
       "      <td>0</td>\n",
       "      <td>1</td>\n",
       "      <td>0</td>\n",
       "      <td>1</td>\n",
       "      <td>11</td>\n",
       "      <td>20</td>\n",
       "      <td>3</td>\n",
       "      <td>13</td>\n",
       "      <td>16</td>\n",
       "      <td>10</td>\n",
       "      <td>4</td>\n",
       "      <td>7</td>\n",
       "      <td>2</td>\n",
       "      <td>1</td>\n",
       "    </tr>\n",
       "    <tr>\n",
       "      <th>3</th>\n",
       "      <td>Chelsea</td>\n",
       "      <td>Hull</td>\n",
       "      <td>2</td>\n",
       "      <td>1</td>\n",
       "      <td>1</td>\n",
       "      <td>1</td>\n",
       "      <td>26</td>\n",
       "      <td>7</td>\n",
       "      <td>12</td>\n",
       "      <td>3</td>\n",
       "      <td>13</td>\n",
       "      <td>15</td>\n",
       "      <td>12</td>\n",
       "      <td>4</td>\n",
       "      <td>1</td>\n",
       "      <td>2</td>\n",
       "    </tr>\n",
       "    <tr>\n",
       "      <th>4</th>\n",
       "      <td>Everton</td>\n",
       "      <td>Arsenal</td>\n",
       "      <td>1</td>\n",
       "      <td>6</td>\n",
       "      <td>0</td>\n",
       "      <td>3</td>\n",
       "      <td>8</td>\n",
       "      <td>15</td>\n",
       "      <td>5</td>\n",
       "      <td>9</td>\n",
       "      <td>11</td>\n",
       "      <td>13</td>\n",
       "      <td>4</td>\n",
       "      <td>9</td>\n",
       "      <td>0</td>\n",
       "      <td>0</td>\n",
       "    </tr>\n",
       "  </tbody>\n",
       "</table>\n",
       "</div>"
      ],
      "text/plain": [
       "      HomeTeam    AwayTeam  FTHG  FTAG  HTHG  HTAG  HS  AS  HST  AST  HF  AF  \\\n",
       "0  Aston Villa       Wigan     0     2     0     1  11  14    5    7  15  14   \n",
       "1    Blackburn    Man City     0     2     0     1  17   8    9    5  12   9   \n",
       "2       Bolton  Sunderland     0     1     0     1  11  20    3   13  16  10   \n",
       "3      Chelsea        Hull     2     1     1     1  26   7   12    3  13  15   \n",
       "4      Everton     Arsenal     1     6     0     3   8  15    5    9  11  13   \n",
       "\n",
       "   HC  AC  HY  AY  \n",
       "0   4   6   2   2  \n",
       "1   5   4   2   1  \n",
       "2   4   7   2   1  \n",
       "3  12   4   1   2  \n",
       "4   4   9   0   0  "
      ]
     },
     "execution_count": 11,
     "metadata": {},
     "output_type": "execute_result"
    }
   ],
   "source": [
    "C=C.iloc[ : , :16]\n",
    "C.head()\n"
   ]
  },
  {
   "cell_type": "code",
   "execution_count": 12,
   "metadata": {},
   "outputs": [],
   "source": [
    "#Preprocessing Data\n",
    "def preprocess_features(Z):\n",
    "    ''' Preprocesses the football data and converts catagorical variables into dummy variables. '''\n",
    "    \n",
    "    # Initialize new output DataFrame\n",
    "    output = pd.DataFrame(index = Z.index)\n",
    "\n",
    "    # Investigate each feature column for the data\n",
    "    for col, col_data in Z.iteritems():\n",
    "\n",
    "        # If data type is categorical, convert to dummy variables\n",
    "        if col_data.dtype == object:\n",
    "            col_data = pd.get_dummies(col_data, prefix = col)\n",
    "                    \n",
    "        # Collect the revisedd columns\n",
    "        output = output.join(col_data)\n",
    "    \n",
    "    return output"
   ]
  },
  {
   "cell_type": "code",
   "execution_count": 13,
   "metadata": {},
   "outputs": [
    {
     "name": "stdout",
     "output_type": "stream",
     "text": [
      "Processed feature columns (90 total features):\n",
      "['HomeTeam_Arsenal', 'HomeTeam_Aston Villa', 'HomeTeam_Birmingham', 'HomeTeam_Blackburn', 'HomeTeam_Blackpool', 'HomeTeam_Bolton', 'HomeTeam_Bournemouth', 'HomeTeam_Brighton', 'HomeTeam_Burnley', 'HomeTeam_Cardiff', 'HomeTeam_Chelsea', 'HomeTeam_Crystal Palace', 'HomeTeam_Everton', 'HomeTeam_Fulham', 'HomeTeam_Huddersfield', 'HomeTeam_Hull', 'HomeTeam_Leeds', 'HomeTeam_Leicester', 'HomeTeam_Liverpool', 'HomeTeam_Man City', 'HomeTeam_Man United', 'HomeTeam_Middlesbrough', 'HomeTeam_Newcastle', 'HomeTeam_Norwich', 'HomeTeam_Portsmouth', 'HomeTeam_QPR', 'HomeTeam_Reading', 'HomeTeam_Sheffield United', 'HomeTeam_Southampton', 'HomeTeam_Stoke', 'HomeTeam_Sunderland', 'HomeTeam_Swansea', 'HomeTeam_Tottenham', 'HomeTeam_Watford', 'HomeTeam_West Brom', 'HomeTeam_West Ham', 'HomeTeam_Wigan', 'HomeTeam_Wolves', 'AwayTeam_Arsenal', 'AwayTeam_Aston Villa', 'AwayTeam_Birmingham', 'AwayTeam_Blackburn', 'AwayTeam_Blackpool', 'AwayTeam_Bolton', 'AwayTeam_Bournemouth', 'AwayTeam_Brighton', 'AwayTeam_Burnley', 'AwayTeam_Cardiff', 'AwayTeam_Chelsea', 'AwayTeam_Crystal Palace', 'AwayTeam_Everton', 'AwayTeam_Fulham', 'AwayTeam_Huddersfield', 'AwayTeam_Hull', 'AwayTeam_Leeds', 'AwayTeam_Leicester', 'AwayTeam_Liverpool', 'AwayTeam_Man City', 'AwayTeam_Man United', 'AwayTeam_Middlesbrough', 'AwayTeam_Newcastle', 'AwayTeam_Norwich', 'AwayTeam_Portsmouth', 'AwayTeam_QPR', 'AwayTeam_Reading', 'AwayTeam_Sheffield United', 'AwayTeam_Southampton', 'AwayTeam_Stoke', 'AwayTeam_Sunderland', 'AwayTeam_Swansea', 'AwayTeam_Tottenham', 'AwayTeam_Watford', 'AwayTeam_West Brom', 'AwayTeam_West Ham', 'AwayTeam_Wigan', 'AwayTeam_Wolves', 'FTHG', 'FTAG', 'HTHG', 'HTAG', 'HS', 'AS', 'HST', 'AST', 'HF', 'AF', 'HC', 'AC', 'HY', 'AY']\n"
     ]
    }
   ],
   "source": [
    "C = preprocess_features(C)\n",
    "print (\"Processed feature columns ({} total features):\\n{}\".format(len(C.columns), list(C.columns)))"
   ]
  },
  {
   "cell_type": "code",
   "execution_count": 14,
   "metadata": {},
   "outputs": [],
   "source": [
    "#Feature Scaling\n",
    "from sklearn.preprocessing import StandardScaler\n",
    "sc = StandardScaler()\n",
    "C = sc.fit_transform(C)"
   ]
  },
  {
   "cell_type": "code",
   "execution_count": 15,
   "metadata": {},
   "outputs": [],
   "source": [
    "#Splitting the data into Training and Test Data\n",
    "from sklearn.model_selection import train_test_split\n",
    "X_train, X_test, y_train, y_test = train_test_split(C, B, \n",
    "                                                    test_size = 50,\n",
    "                                                    random_state = 2,\n",
    "                                                    stratify = B)"
   ]
  },
  {
   "cell_type": "code",
   "execution_count": 16,
   "metadata": {},
   "outputs": [],
   "source": [
    "from time import time "
   ]
  },
  {
   "cell_type": "code",
   "execution_count": 17,
   "metadata": {},
   "outputs": [],
   "source": [
    "from sklearn.metrics import f1_score\n",
    "\n",
    "def train_classifier(clf, X_train, y_train):\n",
    "    ''' Fits a classifier to the training data. '''\n",
    "    \n",
    "    # Start the clock, train the classifier, then stop the clock\n",
    "    start = time()\n",
    "    clf.fit(X_train, y_train)\n",
    "    end = time()\n",
    "    \n",
    "    # Print the results\n",
    "    print (\"Trained model in {:.4f} seconds\".format(end - start))\n",
    "\n",
    "    \n",
    "def predict_labels(clf, features, target):\n",
    "    ''' Makes predictions using a fit classifier based on F1 score. '''\n",
    "    \n",
    "    # Start the clock, make predictions, then stop the clock\n",
    "    start = time()\n",
    "    y_pred = clf.predict(features)\n",
    "    \n",
    "    end = time()\n",
    "    # Print and return results\n",
    "    print (\"Made predictions in {:.4f} seconds.\".format(end - start))\n",
    "    \n",
    "    return f1_score(target, y_pred, average='macro'), sum(target == y_pred) / float(len(y_pred))\n",
    "\n",
    "\n",
    "def train_predict(clf, X_train, y_train, X_test, y_test):\n",
    "    ''' Train and predict using a classifer based on F1 score. '''\n",
    "    \n",
    "    # Indicate the classifier and the training set size\n",
    "    print (\"Training a {} using a training set size of {}. . .\".format(clf.__class__.__name__, len(X_train)))\n",
    "    \n",
    "    # Train the classifier\n",
    "    train_classifier(clf, X_train, y_train)\n",
    "    \n",
    "    # Print the results of prediction for both training and testing\n",
    "    f1, acc = predict_labels(clf, X_train, y_train)\n",
    "    print (f1, acc)\n",
    "    print (\"F1 score and accuracy score for training set: {:.4f} , {:.4f}.\".format(f1 , acc))\n",
    "    \n",
    "    f1, acc = predict_labels(clf, X_test, y_test)\n",
    "    print (\"F1 score and accuracy score for test set: {:.4f} , {:.4f}.\".format(f1 , acc))"
   ]
  },
  {
   "cell_type": "code",
   "execution_count": 18,
   "metadata": {},
   "outputs": [],
   "source": [
    "from sklearn import tree\n",
    "from sklearn.neighbors import KNeighborsClassifier\n",
    "from IPython.display import display\n",
    "KNN = KNeighborsClassifier(n_neighbors = 60)"
   ]
  },
  {
   "cell_type": "code",
   "execution_count": 19,
   "metadata": {},
   "outputs": [
    {
     "data": {
      "text/plain": [
       "KNeighborsClassifier()"
      ]
     },
     "execution_count": 19,
     "metadata": {},
     "output_type": "execute_result"
    }
   ],
   "source": [
    "model = KNeighborsClassifier()\n",
    "model.fit(X_train, y_train)"
   ]
  },
  {
   "cell_type": "code",
   "execution_count": 20,
   "metadata": {},
   "outputs": [
    {
     "data": {
      "text/plain": [
       "array(['D', 'H', 'A', 'A', 'H', 'D', 'H', 'H', 'H', 'D', 'H', 'H', 'H',\n",
       "       'H', 'H', 'D', 'H', 'A', 'A', 'A', 'H', 'A', 'H', 'H', 'H', 'A',\n",
       "       'A', 'H', 'H', 'A', 'A', 'A', 'H', 'H', 'H', 'A', 'A', 'A', 'H',\n",
       "       'H', 'D', 'H', 'H', 'A', 'D', 'H', 'D', 'A', 'A', 'A'],\n",
       "      dtype=object)"
      ]
     },
     "execution_count": 20,
     "metadata": {},
     "output_type": "execute_result"
    }
   ],
   "source": [
    "model.predict(X_test)"
   ]
  },
  {
   "cell_type": "code",
   "execution_count": 21,
   "metadata": {},
   "outputs": [],
   "source": [
    "predictedProbability = model.predict_proba(X_test)\n",
    "predictedProbability = pd.DataFrame(predictedProbability, columns=['Away Team','Draw','Home Team'])"
   ]
  },
  {
   "cell_type": "code",
   "execution_count": 22,
   "metadata": {},
   "outputs": [],
   "source": [
    "#This is of season 2021-22 dataset and all the \n",
    "fixtures = pd.read_csv('dataset/fixtures.csv')\n",
    "fixtures = fixtures.drop(['Date'],1)\n",
    "fixtures = fixtures.dropna()\n",
    "fixtures['FTHG']= 0\n",
    "fixtures['FTAG'] =0 \n",
    "fixtures['HTHG'] = 0\n",
    "fixtures['HTAG'] = 0\n",
    "fixtures['HS'] = 0\n",
    "fixtures['AS'] = 0\n",
    "fixtures['HST'] = 0\n",
    "fixtures['AST'] = 0\n",
    "fixtures['HF'] = 0\n",
    "fixtures['AF'] = 0\n",
    "fixtures['HC'] = 0\n",
    "fixtures['AC'] = 0\n",
    "fixtures['HY'] = 0\n",
    "fixtures['AY'] = 0\n",
    "fixtures['HR'] = 0\n",
    "fixtures['AR'] = 0"
   ]
  },
  {
   "cell_type": "code",
   "execution_count": 23,
   "metadata": {},
   "outputs": [
    {
     "data": {
      "text/html": [
       "<div>\n",
       "<style scoped>\n",
       "    .dataframe tbody tr th:only-of-type {\n",
       "        vertical-align: middle;\n",
       "    }\n",
       "\n",
       "    .dataframe tbody tr th {\n",
       "        vertical-align: top;\n",
       "    }\n",
       "\n",
       "    .dataframe thead th {\n",
       "        text-align: right;\n",
       "    }\n",
       "</style>\n",
       "<table border=\"1\" class=\"dataframe\">\n",
       "  <thead>\n",
       "    <tr style=\"text-align: right;\">\n",
       "      <th></th>\n",
       "      <th>Home Team</th>\n",
       "      <th>Away Team</th>\n",
       "      <th>FTHG</th>\n",
       "      <th>FTAG</th>\n",
       "      <th>HTHG</th>\n",
       "      <th>HTAG</th>\n",
       "      <th>HS</th>\n",
       "      <th>AS</th>\n",
       "      <th>HST</th>\n",
       "      <th>AST</th>\n",
       "      <th>HF</th>\n",
       "      <th>AF</th>\n",
       "      <th>HC</th>\n",
       "      <th>AC</th>\n",
       "      <th>HY</th>\n",
       "      <th>AY</th>\n",
       "      <th>HR</th>\n",
       "      <th>AR</th>\n",
       "    </tr>\n",
       "  </thead>\n",
       "  <tbody>\n",
       "    <tr>\n",
       "      <th>0</th>\n",
       "      <td>Man Utd</td>\n",
       "      <td>Leeds</td>\n",
       "      <td>0</td>\n",
       "      <td>0</td>\n",
       "      <td>0</td>\n",
       "      <td>0</td>\n",
       "      <td>0</td>\n",
       "      <td>0</td>\n",
       "      <td>0</td>\n",
       "      <td>0</td>\n",
       "      <td>0</td>\n",
       "      <td>0</td>\n",
       "      <td>0</td>\n",
       "      <td>0</td>\n",
       "      <td>0</td>\n",
       "      <td>0</td>\n",
       "      <td>0</td>\n",
       "      <td>0</td>\n",
       "    </tr>\n",
       "    <tr>\n",
       "      <th>1</th>\n",
       "      <td>Burnley</td>\n",
       "      <td>Brighton</td>\n",
       "      <td>0</td>\n",
       "      <td>0</td>\n",
       "      <td>0</td>\n",
       "      <td>0</td>\n",
       "      <td>0</td>\n",
       "      <td>0</td>\n",
       "      <td>0</td>\n",
       "      <td>0</td>\n",
       "      <td>0</td>\n",
       "      <td>0</td>\n",
       "      <td>0</td>\n",
       "      <td>0</td>\n",
       "      <td>0</td>\n",
       "      <td>0</td>\n",
       "      <td>0</td>\n",
       "      <td>0</td>\n",
       "    </tr>\n",
       "    <tr>\n",
       "      <th>2</th>\n",
       "      <td>Chelsea</td>\n",
       "      <td>Crystal Palace</td>\n",
       "      <td>0</td>\n",
       "      <td>0</td>\n",
       "      <td>0</td>\n",
       "      <td>0</td>\n",
       "      <td>0</td>\n",
       "      <td>0</td>\n",
       "      <td>0</td>\n",
       "      <td>0</td>\n",
       "      <td>0</td>\n",
       "      <td>0</td>\n",
       "      <td>0</td>\n",
       "      <td>0</td>\n",
       "      <td>0</td>\n",
       "      <td>0</td>\n",
       "      <td>0</td>\n",
       "      <td>0</td>\n",
       "    </tr>\n",
       "    <tr>\n",
       "      <th>3</th>\n",
       "      <td>Everton</td>\n",
       "      <td>Southampton</td>\n",
       "      <td>0</td>\n",
       "      <td>0</td>\n",
       "      <td>0</td>\n",
       "      <td>0</td>\n",
       "      <td>0</td>\n",
       "      <td>0</td>\n",
       "      <td>0</td>\n",
       "      <td>0</td>\n",
       "      <td>0</td>\n",
       "      <td>0</td>\n",
       "      <td>0</td>\n",
       "      <td>0</td>\n",
       "      <td>0</td>\n",
       "      <td>0</td>\n",
       "      <td>0</td>\n",
       "      <td>0</td>\n",
       "    </tr>\n",
       "    <tr>\n",
       "      <th>4</th>\n",
       "      <td>Leicester</td>\n",
       "      <td>Wolves</td>\n",
       "      <td>0</td>\n",
       "      <td>0</td>\n",
       "      <td>0</td>\n",
       "      <td>0</td>\n",
       "      <td>0</td>\n",
       "      <td>0</td>\n",
       "      <td>0</td>\n",
       "      <td>0</td>\n",
       "      <td>0</td>\n",
       "      <td>0</td>\n",
       "      <td>0</td>\n",
       "      <td>0</td>\n",
       "      <td>0</td>\n",
       "      <td>0</td>\n",
       "      <td>0</td>\n",
       "      <td>0</td>\n",
       "    </tr>\n",
       "    <tr>\n",
       "      <th>5</th>\n",
       "      <td>Watford</td>\n",
       "      <td>Aston Villa</td>\n",
       "      <td>0</td>\n",
       "      <td>0</td>\n",
       "      <td>0</td>\n",
       "      <td>0</td>\n",
       "      <td>0</td>\n",
       "      <td>0</td>\n",
       "      <td>0</td>\n",
       "      <td>0</td>\n",
       "      <td>0</td>\n",
       "      <td>0</td>\n",
       "      <td>0</td>\n",
       "      <td>0</td>\n",
       "      <td>0</td>\n",
       "      <td>0</td>\n",
       "      <td>0</td>\n",
       "      <td>0</td>\n",
       "    </tr>\n",
       "    <tr>\n",
       "      <th>6</th>\n",
       "      <td>Norwich</td>\n",
       "      <td>Liverpool</td>\n",
       "      <td>0</td>\n",
       "      <td>0</td>\n",
       "      <td>0</td>\n",
       "      <td>0</td>\n",
       "      <td>0</td>\n",
       "      <td>0</td>\n",
       "      <td>0</td>\n",
       "      <td>0</td>\n",
       "      <td>0</td>\n",
       "      <td>0</td>\n",
       "      <td>0</td>\n",
       "      <td>0</td>\n",
       "      <td>0</td>\n",
       "      <td>0</td>\n",
       "      <td>0</td>\n",
       "      <td>0</td>\n",
       "    </tr>\n",
       "    <tr>\n",
       "      <th>7</th>\n",
       "      <td>Newcastle</td>\n",
       "      <td>West Ham</td>\n",
       "      <td>0</td>\n",
       "      <td>0</td>\n",
       "      <td>0</td>\n",
       "      <td>0</td>\n",
       "      <td>0</td>\n",
       "      <td>0</td>\n",
       "      <td>0</td>\n",
       "      <td>0</td>\n",
       "      <td>0</td>\n",
       "      <td>0</td>\n",
       "      <td>0</td>\n",
       "      <td>0</td>\n",
       "      <td>0</td>\n",
       "      <td>0</td>\n",
       "      <td>0</td>\n",
       "      <td>0</td>\n",
       "    </tr>\n",
       "    <tr>\n",
       "      <th>8</th>\n",
       "      <td>Spurs</td>\n",
       "      <td>Man City</td>\n",
       "      <td>0</td>\n",
       "      <td>0</td>\n",
       "      <td>0</td>\n",
       "      <td>0</td>\n",
       "      <td>0</td>\n",
       "      <td>0</td>\n",
       "      <td>0</td>\n",
       "      <td>0</td>\n",
       "      <td>0</td>\n",
       "      <td>0</td>\n",
       "      <td>0</td>\n",
       "      <td>0</td>\n",
       "      <td>0</td>\n",
       "      <td>0</td>\n",
       "      <td>0</td>\n",
       "      <td>0</td>\n",
       "    </tr>\n",
       "    <tr>\n",
       "      <th>9</th>\n",
       "      <td>Liverpool</td>\n",
       "      <td>Burnley</td>\n",
       "      <td>0</td>\n",
       "      <td>0</td>\n",
       "      <td>0</td>\n",
       "      <td>0</td>\n",
       "      <td>0</td>\n",
       "      <td>0</td>\n",
       "      <td>0</td>\n",
       "      <td>0</td>\n",
       "      <td>0</td>\n",
       "      <td>0</td>\n",
       "      <td>0</td>\n",
       "      <td>0</td>\n",
       "      <td>0</td>\n",
       "      <td>0</td>\n",
       "      <td>0</td>\n",
       "      <td>0</td>\n",
       "    </tr>\n",
       "  </tbody>\n",
       "</table>\n",
       "</div>"
      ],
      "text/plain": [
       "   Home Team       Away Team  FTHG  FTAG  HTHG  HTAG  HS  AS  HST  AST  HF  \\\n",
       "0    Man Utd           Leeds     0     0     0     0   0   0    0    0   0   \n",
       "1    Burnley        Brighton     0     0     0     0   0   0    0    0   0   \n",
       "2    Chelsea  Crystal Palace     0     0     0     0   0   0    0    0   0   \n",
       "3    Everton     Southampton     0     0     0     0   0   0    0    0   0   \n",
       "4  Leicester          Wolves     0     0     0     0   0   0    0    0   0   \n",
       "5    Watford     Aston Villa     0     0     0     0   0   0    0    0   0   \n",
       "6    Norwich       Liverpool     0     0     0     0   0   0    0    0   0   \n",
       "7  Newcastle        West Ham     0     0     0     0   0   0    0    0   0   \n",
       "8      Spurs        Man City     0     0     0     0   0   0    0    0   0   \n",
       "9  Liverpool         Burnley     0     0     0     0   0   0    0    0   0   \n",
       "\n",
       "   AF  HC  AC  HY  AY  HR  AR  \n",
       "0   0   0   0   0   0   0   0  \n",
       "1   0   0   0   0   0   0   0  \n",
       "2   0   0   0   0   0   0   0  \n",
       "3   0   0   0   0   0   0   0  \n",
       "4   0   0   0   0   0   0   0  \n",
       "5   0   0   0   0   0   0   0  \n",
       "6   0   0   0   0   0   0   0  \n",
       "7   0   0   0   0   0   0   0  \n",
       "8   0   0   0   0   0   0   0  \n",
       "9   0   0   0   0   0   0   0  "
      ]
     },
     "metadata": {},
     "output_type": "display_data"
    }
   ],
   "source": [
    "display(fixtures.head(10))"
   ]
  },
  {
   "cell_type": "code",
   "execution_count": 24,
   "metadata": {
    "scrolled": true
   },
   "outputs": [
    {
     "data": {
      "text/html": [
       "<div>\n",
       "<style scoped>\n",
       "    .dataframe tbody tr th:only-of-type {\n",
       "        vertical-align: middle;\n",
       "    }\n",
       "\n",
       "    .dataframe tbody tr th {\n",
       "        vertical-align: top;\n",
       "    }\n",
       "\n",
       "    .dataframe thead th {\n",
       "        text-align: right;\n",
       "    }\n",
       "</style>\n",
       "<table border=\"1\" class=\"dataframe\">\n",
       "  <thead>\n",
       "    <tr style=\"text-align: right;\">\n",
       "      <th></th>\n",
       "      <th>Home Team_Arsenal</th>\n",
       "      <th>Home Team_Aston Villa</th>\n",
       "      <th>Home Team_Birmingham</th>\n",
       "      <th>Home Team_Blackburn</th>\n",
       "      <th>Home Team_Blackpool</th>\n",
       "      <th>Home Team_Bolton</th>\n",
       "      <th>Home Team_Bournemouth</th>\n",
       "      <th>Home Team_Brighton</th>\n",
       "      <th>Home Team_Burnley</th>\n",
       "      <th>Home Team_Cardiff</th>\n",
       "      <th>...</th>\n",
       "      <th>HST</th>\n",
       "      <th>AST</th>\n",
       "      <th>HF</th>\n",
       "      <th>AF</th>\n",
       "      <th>HC</th>\n",
       "      <th>AC</th>\n",
       "      <th>HY</th>\n",
       "      <th>AY</th>\n",
       "      <th>HR</th>\n",
       "      <th>AR</th>\n",
       "    </tr>\n",
       "  </thead>\n",
       "  <tbody>\n",
       "    <tr>\n",
       "      <th>0</th>\n",
       "      <td>0</td>\n",
       "      <td>0</td>\n",
       "      <td>0</td>\n",
       "      <td>0</td>\n",
       "      <td>0</td>\n",
       "      <td>0</td>\n",
       "      <td>0</td>\n",
       "      <td>0</td>\n",
       "      <td>0</td>\n",
       "      <td>0</td>\n",
       "      <td>...</td>\n",
       "      <td>0</td>\n",
       "      <td>0</td>\n",
       "      <td>0</td>\n",
       "      <td>0</td>\n",
       "      <td>0</td>\n",
       "      <td>0</td>\n",
       "      <td>0</td>\n",
       "      <td>0</td>\n",
       "      <td>0</td>\n",
       "      <td>0</td>\n",
       "    </tr>\n",
       "    <tr>\n",
       "      <th>1</th>\n",
       "      <td>0</td>\n",
       "      <td>0</td>\n",
       "      <td>0</td>\n",
       "      <td>0</td>\n",
       "      <td>0</td>\n",
       "      <td>0</td>\n",
       "      <td>0</td>\n",
       "      <td>0</td>\n",
       "      <td>1</td>\n",
       "      <td>0</td>\n",
       "      <td>...</td>\n",
       "      <td>0</td>\n",
       "      <td>0</td>\n",
       "      <td>0</td>\n",
       "      <td>0</td>\n",
       "      <td>0</td>\n",
       "      <td>0</td>\n",
       "      <td>0</td>\n",
       "      <td>0</td>\n",
       "      <td>0</td>\n",
       "      <td>0</td>\n",
       "    </tr>\n",
       "    <tr>\n",
       "      <th>2</th>\n",
       "      <td>0</td>\n",
       "      <td>0</td>\n",
       "      <td>0</td>\n",
       "      <td>0</td>\n",
       "      <td>0</td>\n",
       "      <td>0</td>\n",
       "      <td>0</td>\n",
       "      <td>0</td>\n",
       "      <td>0</td>\n",
       "      <td>0</td>\n",
       "      <td>...</td>\n",
       "      <td>0</td>\n",
       "      <td>0</td>\n",
       "      <td>0</td>\n",
       "      <td>0</td>\n",
       "      <td>0</td>\n",
       "      <td>0</td>\n",
       "      <td>0</td>\n",
       "      <td>0</td>\n",
       "      <td>0</td>\n",
       "      <td>0</td>\n",
       "    </tr>\n",
       "    <tr>\n",
       "      <th>3</th>\n",
       "      <td>0</td>\n",
       "      <td>0</td>\n",
       "      <td>0</td>\n",
       "      <td>0</td>\n",
       "      <td>0</td>\n",
       "      <td>0</td>\n",
       "      <td>0</td>\n",
       "      <td>0</td>\n",
       "      <td>0</td>\n",
       "      <td>0</td>\n",
       "      <td>...</td>\n",
       "      <td>0</td>\n",
       "      <td>0</td>\n",
       "      <td>0</td>\n",
       "      <td>0</td>\n",
       "      <td>0</td>\n",
       "      <td>0</td>\n",
       "      <td>0</td>\n",
       "      <td>0</td>\n",
       "      <td>0</td>\n",
       "      <td>0</td>\n",
       "    </tr>\n",
       "    <tr>\n",
       "      <th>4</th>\n",
       "      <td>0</td>\n",
       "      <td>0</td>\n",
       "      <td>0</td>\n",
       "      <td>0</td>\n",
       "      <td>0</td>\n",
       "      <td>0</td>\n",
       "      <td>0</td>\n",
       "      <td>0</td>\n",
       "      <td>0</td>\n",
       "      <td>0</td>\n",
       "      <td>...</td>\n",
       "      <td>0</td>\n",
       "      <td>0</td>\n",
       "      <td>0</td>\n",
       "      <td>0</td>\n",
       "      <td>0</td>\n",
       "      <td>0</td>\n",
       "      <td>0</td>\n",
       "      <td>0</td>\n",
       "      <td>0</td>\n",
       "      <td>0</td>\n",
       "    </tr>\n",
       "  </tbody>\n",
       "</table>\n",
       "<p>5 rows × 90 columns</p>\n",
       "</div>"
      ],
      "text/plain": [
       "   Home Team_Arsenal  Home Team_Aston Villa  Home Team_Birmingham  \\\n",
       "0                  0                      0                     0   \n",
       "1                  0                      0                     0   \n",
       "2                  0                      0                     0   \n",
       "3                  0                      0                     0   \n",
       "4                  0                      0                     0   \n",
       "\n",
       "   Home Team_Blackburn  Home Team_Blackpool  Home Team_Bolton  \\\n",
       "0                    0                    0                 0   \n",
       "1                    0                    0                 0   \n",
       "2                    0                    0                 0   \n",
       "3                    0                    0                 0   \n",
       "4                    0                    0                 0   \n",
       "\n",
       "   Home Team_Bournemouth  Home Team_Brighton  Home Team_Burnley  \\\n",
       "0                      0                   0                  0   \n",
       "1                      0                   0                  1   \n",
       "2                      0                   0                  0   \n",
       "3                      0                   0                  0   \n",
       "4                      0                   0                  0   \n",
       "\n",
       "   Home Team_Cardiff  ...  HST  AST  HF  AF  HC  AC  HY  AY  HR  AR  \n",
       "0                  0  ...    0    0   0   0   0   0   0   0   0   0  \n",
       "1                  0  ...    0    0   0   0   0   0   0   0   0   0  \n",
       "2                  0  ...    0    0   0   0   0   0   0   0   0   0  \n",
       "3                  0  ...    0    0   0   0   0   0   0   0   0   0  \n",
       "4                  0  ...    0    0   0   0   0   0   0   0   0   0  \n",
       "\n",
       "[5 rows x 90 columns]"
      ]
     },
     "execution_count": 24,
     "metadata": {},
     "output_type": "execute_result"
    }
   ],
   "source": [
    "preprocessedFixtures = preprocess_features(fixtures)\n",
    "preprocessedFixtures.head()"
   ]
  },
  {
   "cell_type": "code",
   "execution_count": 25,
   "metadata": {},
   "outputs": [],
   "source": [
    "from sklearn.preprocessing import StandardScaler\n",
    "sc = StandardScaler()\n",
    "preprocessedFixtures = sc.fit_transform(preprocessedFixtures)"
   ]
  },
  {
   "cell_type": "code",
   "execution_count": 26,
   "metadata": {},
   "outputs": [],
   "source": [
    "fixtures['Result_Predicted'] = model.predict(preprocessedFixtures)"
   ]
  },
  {
   "cell_type": "code",
   "execution_count": 27,
   "metadata": {},
   "outputs": [
    {
     "data": {
      "text/html": [
       "<div>\n",
       "<style scoped>\n",
       "    .dataframe tbody tr th:only-of-type {\n",
       "        vertical-align: middle;\n",
       "    }\n",
       "\n",
       "    .dataframe tbody tr th {\n",
       "        vertical-align: top;\n",
       "    }\n",
       "\n",
       "    .dataframe thead th {\n",
       "        text-align: right;\n",
       "    }\n",
       "</style>\n",
       "<table border=\"1\" class=\"dataframe\">\n",
       "  <thead>\n",
       "    <tr style=\"text-align: right;\">\n",
       "      <th></th>\n",
       "      <th>Home Team</th>\n",
       "      <th>Away Team</th>\n",
       "      <th>Result_Predicted</th>\n",
       "    </tr>\n",
       "  </thead>\n",
       "  <tbody>\n",
       "    <tr>\n",
       "      <th>0</th>\n",
       "      <td>Man Utd</td>\n",
       "      <td>Leeds</td>\n",
       "      <td>H</td>\n",
       "    </tr>\n",
       "    <tr>\n",
       "      <th>1</th>\n",
       "      <td>Burnley</td>\n",
       "      <td>Brighton</td>\n",
       "      <td>H</td>\n",
       "    </tr>\n",
       "    <tr>\n",
       "      <th>2</th>\n",
       "      <td>Chelsea</td>\n",
       "      <td>Crystal Palace</td>\n",
       "      <td>H</td>\n",
       "    </tr>\n",
       "    <tr>\n",
       "      <th>3</th>\n",
       "      <td>Everton</td>\n",
       "      <td>Southampton</td>\n",
       "      <td>D</td>\n",
       "    </tr>\n",
       "    <tr>\n",
       "      <th>4</th>\n",
       "      <td>Leicester</td>\n",
       "      <td>Wolves</td>\n",
       "      <td>A</td>\n",
       "    </tr>\n",
       "    <tr>\n",
       "      <th>5</th>\n",
       "      <td>Watford</td>\n",
       "      <td>Aston Villa</td>\n",
       "      <td>H</td>\n",
       "    </tr>\n",
       "    <tr>\n",
       "      <th>6</th>\n",
       "      <td>Norwich</td>\n",
       "      <td>Liverpool</td>\n",
       "      <td>D</td>\n",
       "    </tr>\n",
       "    <tr>\n",
       "      <th>7</th>\n",
       "      <td>Newcastle</td>\n",
       "      <td>West Ham</td>\n",
       "      <td>A</td>\n",
       "    </tr>\n",
       "    <tr>\n",
       "      <th>8</th>\n",
       "      <td>Spurs</td>\n",
       "      <td>Man City</td>\n",
       "      <td>A</td>\n",
       "    </tr>\n",
       "    <tr>\n",
       "      <th>9</th>\n",
       "      <td>Liverpool</td>\n",
       "      <td>Burnley</td>\n",
       "      <td>H</td>\n",
       "    </tr>\n",
       "  </tbody>\n",
       "</table>\n",
       "</div>"
      ],
      "text/plain": [
       "   Home Team       Away Team Result_Predicted\n",
       "0    Man Utd           Leeds                H\n",
       "1    Burnley        Brighton                H\n",
       "2    Chelsea  Crystal Palace                H\n",
       "3    Everton     Southampton                D\n",
       "4  Leicester          Wolves                A\n",
       "5    Watford     Aston Villa                H\n",
       "6    Norwich       Liverpool                D\n",
       "7  Newcastle        West Ham                A\n",
       "8      Spurs        Man City                A\n",
       "9  Liverpool         Burnley                H"
      ]
     },
     "execution_count": 27,
     "metadata": {},
     "output_type": "execute_result"
    }
   ],
   "source": [
    "fixtures = fixtures.drop(['FTHG','FTAG','HTHG','HTAG','HS','AS','HST','HF','AF','HY',\n",
    "                        'AY','HR','AR','HC','AC','AST','HC','AC'],1)\n",
    "fixtures.head(10)"
   ]
  },
  {
   "cell_type": "code",
   "execution_count": 28,
   "metadata": {},
   "outputs": [
    {
     "data": {
      "image/png": "[encoded data removed]",
      "text/plain": [
       "<Figure size 432x288 with 1 Axes>"
      ]
     },
     "metadata": {},
     "output_type": "display_data"
    }
   ],
   "source": [
    "import matplotlib.pyplot as plt\n",
    "HWins = np.sum(fixtures.Result_Predicted == 'H')\n",
    "AWins = np.sum(fixtures.Result_Predicted == 'A')\n",
    "DWins = np.sum(fixtures.Result_Predicted == 'D')\n",
    "labels = ['Home', 'Away', 'Draw']\n",
    "sizes = [HWins, AWins, DWins]\n",
    "colors = ['blue', 'red', 'green']\n",
    "patches, texts, juck = plt.pie(sizes, labels = sizes , colors=colors, shadow=True, startangle=90, radius = 2, autopct='%1.1f%%')\n",
    "plt.title(\"Distribution of full time match results\",size=14,fontweight='bold')\n",
    "plt.legend(patches, labels, loc=\"upper left\")\n",
    "plt.axis('equal')\n",
    "plt.show()"
   ]
  }
 ],
 "metadata": {
  "kernelspec": {
   "display_name": "Python 3",
   "language": "python",
   "name": "python3"
  },
  "language_info": {
   "codemirror_mode": {
    "name": "ipython",
    "version": 3
   },
   "file_extension": ".py",
   "mimetype": "text/x-python",
   "name": "python",
   "nbconvert_exporter": "python",
   "pygments_lexer": "ipython3",
   "version": "3.8.5"
  }
 },
 "nbformat": 4,
 "nbformat_minor": 4
}
